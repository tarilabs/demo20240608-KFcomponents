{
 "cells": [
  {
   "cell_type": "markdown",
   "id": "bc445ba1",
   "metadata": {
    "papermill": {
     "duration": 0.004885,
     "end_time": "2022-06-12T10:50:03.481407",
     "exception": false,
     "start_time": "2022-06-12T10:50:03.476522",
     "status": "completed"
    },
    "tags": []
   },
   "source": [
    "# About the data\n",
    "\n",
    "Features Explanation:\n",
    "* distancefromhome, numeric - the distance from home where the transaction happened.\n",
    "* distancefromlast_transaction, numeric - the distance from last transaction happened.\n",
    "* ratiotomedianpurchaseprice, numeric - Ratio of purchased price transaction to median purchase price.\n",
    "* repeat_retailer, binary - Is the transaction happened from same retailer.\n",
    "* used_chip, binary - Is the transaction through chip (credit card).\n",
    "* used_pin_number, binary - Is the transaction happened by using PIN number.\n",
    "* online_order, binary - Is the transaction an online order.\n",
    "* fraud, binary - Is the transaction fraudulent."
   ]
  },
  {
   "cell_type": "code",
   "execution_count": 29,
   "id": "a692fe03",
   "metadata": {
    "_cell_guid": "b1076dfc-b9ad-4769-8c92-a6c4dae69d19",
    "_uuid": "8f2839f25d086af736a60e9eeb907d3b93b6e0e5",
    "execution": {
     "iopub.execute_input": "2022-06-12T10:50:03.493232Z",
     "iopub.status.busy": "2022-06-12T10:50:03.492793Z",
     "iopub.status.idle": "2022-06-12T10:50:06.487267Z",
     "shell.execute_reply": "2022-06-12T10:50:06.486179Z"
    },
    "papermill": {
     "duration": 3.003296,
     "end_time": "2022-06-12T10:50:06.491088",
     "exception": false,
     "start_time": "2022-06-12T10:50:03.487792",
     "status": "completed"
    },
    "tags": []
   },
   "outputs": [
    {
     "data": {
      "text/html": [
       "<div>\n",
       "<style scoped>\n",
       "    .dataframe tbody tr th:only-of-type {\n",
       "        vertical-align: middle;\n",
       "    }\n",
       "\n",
       "    .dataframe tbody tr th {\n",
       "        vertical-align: top;\n",
       "    }\n",
       "\n",
       "    .dataframe thead th {\n",
       "        text-align: right;\n",
       "    }\n",
       "</style>\n",
       "<table border=\"1\" class=\"dataframe\">\n",
       "  <thead>\n",
       "    <tr style=\"text-align: right;\">\n",
       "      <th></th>\n",
       "      <th>distance_from_home</th>\n",
       "      <th>ratio_to_median_purchase_price</th>\n",
       "      <th>repeat_retailer</th>\n",
       "      <th>used_chip</th>\n",
       "      <th>used_pin_number</th>\n",
       "      <th>online_order</th>\n",
       "      <th>fraud</th>\n",
       "    </tr>\n",
       "  </thead>\n",
       "  <tbody>\n",
       "    <tr>\n",
       "      <th>0</th>\n",
       "      <td>57.877857</td>\n",
       "      <td>1.945940</td>\n",
       "      <td>1.0</td>\n",
       "      <td>1.0</td>\n",
       "      <td>0.0</td>\n",
       "      <td>0.0</td>\n",
       "      <td>0.0</td>\n",
       "    </tr>\n",
       "    <tr>\n",
       "      <th>1</th>\n",
       "      <td>10.829943</td>\n",
       "      <td>1.294219</td>\n",
       "      <td>1.0</td>\n",
       "      <td>0.0</td>\n",
       "      <td>0.0</td>\n",
       "      <td>0.0</td>\n",
       "      <td>0.0</td>\n",
       "    </tr>\n",
       "    <tr>\n",
       "      <th>2</th>\n",
       "      <td>5.091079</td>\n",
       "      <td>0.427715</td>\n",
       "      <td>1.0</td>\n",
       "      <td>0.0</td>\n",
       "      <td>0.0</td>\n",
       "      <td>1.0</td>\n",
       "      <td>0.0</td>\n",
       "    </tr>\n",
       "    <tr>\n",
       "      <th>3</th>\n",
       "      <td>2.247564</td>\n",
       "      <td>0.362663</td>\n",
       "      <td>1.0</td>\n",
       "      <td>1.0</td>\n",
       "      <td>0.0</td>\n",
       "      <td>1.0</td>\n",
       "      <td>0.0</td>\n",
       "    </tr>\n",
       "    <tr>\n",
       "      <th>4</th>\n",
       "      <td>44.190936</td>\n",
       "      <td>2.222767</td>\n",
       "      <td>1.0</td>\n",
       "      <td>1.0</td>\n",
       "      <td>0.0</td>\n",
       "      <td>1.0</td>\n",
       "      <td>0.0</td>\n",
       "    </tr>\n",
       "  </tbody>\n",
       "</table>\n",
       "</div>"
      ],
      "text/plain": [
       "   distance_from_home  ratio_to_median_purchase_price  repeat_retailer  \\\n",
       "0           57.877857                        1.945940              1.0   \n",
       "1           10.829943                        1.294219              1.0   \n",
       "2            5.091079                        0.427715              1.0   \n",
       "3            2.247564                        0.362663              1.0   \n",
       "4           44.190936                        2.222767              1.0   \n",
       "\n",
       "   used_chip  used_pin_number  online_order  fraud  \n",
       "0        1.0              0.0           0.0    0.0  \n",
       "1        0.0              0.0           0.0    0.0  \n",
       "2        0.0              0.0           1.0    0.0  \n",
       "3        1.0              0.0           1.0    0.0  \n",
       "4        1.0              0.0           1.0    0.0  "
      ]
     },
     "execution_count": 29,
     "metadata": {},
     "output_type": "execute_result"
    }
   ],
   "source": [
    "import numpy as np\n",
    "import pandas as pd\n",
    "import seaborn as sns\n",
    "import matplotlib.pyplot as plt\n",
    "from sklearn.model_selection import train_test_split\n",
    "import time\n",
    "\n",
    "data_path = 'card_transdata.csv'\n",
    "data = pd.read_csv(data_path)\n",
    "data = data.drop(columns=[\"distance_from_last_transaction\"]) # MM, not intended later for serving exercise\n",
    "n = data.shape[0]\n",
    "data.head()"
   ]
  },
  {
   "cell_type": "code",
   "execution_count": 30,
   "id": "a339e205",
   "metadata": {
    "execution": {
     "iopub.execute_input": "2022-06-12T10:50:06.502679Z",
     "iopub.status.busy": "2022-06-12T10:50:06.501975Z",
     "iopub.status.idle": "2022-06-12T10:50:06.549917Z",
     "shell.execute_reply": "2022-06-12T10:50:06.548920Z"
    },
    "papermill": {
     "duration": 0.055929,
     "end_time": "2022-06-12T10:50:06.551946",
     "exception": false,
     "start_time": "2022-06-12T10:50:06.496017",
     "status": "completed"
    },
    "tags": []
   },
   "outputs": [
    {
     "name": "stdout",
     "output_type": "stream",
     "text": [
      "<class 'pandas.core.frame.DataFrame'>\n",
      "RangeIndex: 1000000 entries, 0 to 999999\n",
      "Data columns (total 7 columns):\n",
      " #   Column                          Non-Null Count    Dtype  \n",
      "---  ------                          --------------    -----  \n",
      " 0   distance_from_home              1000000 non-null  float64\n",
      " 1   ratio_to_median_purchase_price  1000000 non-null  float64\n",
      " 2   repeat_retailer                 1000000 non-null  float64\n",
      " 3   used_chip                       1000000 non-null  float64\n",
      " 4   used_pin_number                 1000000 non-null  float64\n",
      " 5   online_order                    1000000 non-null  float64\n",
      " 6   fraud                           1000000 non-null  float64\n",
      "dtypes: float64(7)\n",
      "memory usage: 53.4 MB\n"
     ]
    }
   ],
   "source": [
    "data.info()"
   ]
  },
  {
   "cell_type": "code",
   "execution_count": 31,
   "id": "4d54cf2a",
   "metadata": {
    "execution": {
     "iopub.execute_input": "2022-06-12T10:50:06.562246Z",
     "iopub.status.busy": "2022-06-12T10:50:06.561714Z",
     "iopub.status.idle": "2022-06-12T10:50:06.983091Z",
     "shell.execute_reply": "2022-06-12T10:50:06.982076Z"
    },
    "papermill": {
     "duration": 0.428827,
     "end_time": "2022-06-12T10:50:06.985000",
     "exception": false,
     "start_time": "2022-06-12T10:50:06.556173",
     "status": "completed"
    },
    "tags": []
   },
   "outputs": [
    {
     "data": {
      "text/html": [
       "<div>\n",
       "<style scoped>\n",
       "    .dataframe tbody tr th:only-of-type {\n",
       "        vertical-align: middle;\n",
       "    }\n",
       "\n",
       "    .dataframe tbody tr th {\n",
       "        vertical-align: top;\n",
       "    }\n",
       "\n",
       "    .dataframe thead th {\n",
       "        text-align: right;\n",
       "    }\n",
       "</style>\n",
       "<table border=\"1\" class=\"dataframe\">\n",
       "  <thead>\n",
       "    <tr style=\"text-align: right;\">\n",
       "      <th></th>\n",
       "      <th>distance_from_home</th>\n",
       "      <th>ratio_to_median_purchase_price</th>\n",
       "      <th>repeat_retailer</th>\n",
       "      <th>used_chip</th>\n",
       "      <th>used_pin_number</th>\n",
       "      <th>online_order</th>\n",
       "      <th>fraud</th>\n",
       "    </tr>\n",
       "  </thead>\n",
       "  <tbody>\n",
       "    <tr>\n",
       "      <th>count</th>\n",
       "      <td>1000000.000000</td>\n",
       "      <td>1000000.000000</td>\n",
       "      <td>1000000.000000</td>\n",
       "      <td>1000000.000000</td>\n",
       "      <td>1000000.000000</td>\n",
       "      <td>1000000.000000</td>\n",
       "      <td>1000000.000000</td>\n",
       "    </tr>\n",
       "    <tr>\n",
       "      <th>mean</th>\n",
       "      <td>26.628792</td>\n",
       "      <td>1.824182</td>\n",
       "      <td>0.881536</td>\n",
       "      <td>0.350399</td>\n",
       "      <td>0.100608</td>\n",
       "      <td>0.650552</td>\n",
       "      <td>0.087403</td>\n",
       "    </tr>\n",
       "    <tr>\n",
       "      <th>std</th>\n",
       "      <td>65.390784</td>\n",
       "      <td>2.799589</td>\n",
       "      <td>0.323157</td>\n",
       "      <td>0.477095</td>\n",
       "      <td>0.300809</td>\n",
       "      <td>0.476796</td>\n",
       "      <td>0.282425</td>\n",
       "    </tr>\n",
       "    <tr>\n",
       "      <th>min</th>\n",
       "      <td>0.004874</td>\n",
       "      <td>0.004399</td>\n",
       "      <td>0.000000</td>\n",
       "      <td>0.000000</td>\n",
       "      <td>0.000000</td>\n",
       "      <td>0.000000</td>\n",
       "      <td>0.000000</td>\n",
       "    </tr>\n",
       "    <tr>\n",
       "      <th>25%</th>\n",
       "      <td>3.878008</td>\n",
       "      <td>0.475673</td>\n",
       "      <td>1.000000</td>\n",
       "      <td>0.000000</td>\n",
       "      <td>0.000000</td>\n",
       "      <td>0.000000</td>\n",
       "      <td>0.000000</td>\n",
       "    </tr>\n",
       "    <tr>\n",
       "      <th>50%</th>\n",
       "      <td>9.967760</td>\n",
       "      <td>0.997717</td>\n",
       "      <td>1.000000</td>\n",
       "      <td>0.000000</td>\n",
       "      <td>0.000000</td>\n",
       "      <td>1.000000</td>\n",
       "      <td>0.000000</td>\n",
       "    </tr>\n",
       "    <tr>\n",
       "      <th>75%</th>\n",
       "      <td>25.743985</td>\n",
       "      <td>2.096370</td>\n",
       "      <td>1.000000</td>\n",
       "      <td>1.000000</td>\n",
       "      <td>0.000000</td>\n",
       "      <td>1.000000</td>\n",
       "      <td>0.000000</td>\n",
       "    </tr>\n",
       "    <tr>\n",
       "      <th>max</th>\n",
       "      <td>10632.723672</td>\n",
       "      <td>267.802942</td>\n",
       "      <td>1.000000</td>\n",
       "      <td>1.000000</td>\n",
       "      <td>1.000000</td>\n",
       "      <td>1.000000</td>\n",
       "      <td>1.000000</td>\n",
       "    </tr>\n",
       "  </tbody>\n",
       "</table>\n",
       "</div>"
      ],
      "text/plain": [
       "       distance_from_home  ratio_to_median_purchase_price  repeat_retailer  \\\n",
       "count      1000000.000000                  1000000.000000   1000000.000000   \n",
       "mean            26.628792                        1.824182         0.881536   \n",
       "std             65.390784                        2.799589         0.323157   \n",
       "min              0.004874                        0.004399         0.000000   \n",
       "25%              3.878008                        0.475673         1.000000   \n",
       "50%              9.967760                        0.997717         1.000000   \n",
       "75%             25.743985                        2.096370         1.000000   \n",
       "max          10632.723672                      267.802942         1.000000   \n",
       "\n",
       "            used_chip  used_pin_number    online_order           fraud  \n",
       "count  1000000.000000   1000000.000000  1000000.000000  1000000.000000  \n",
       "mean         0.350399         0.100608        0.650552        0.087403  \n",
       "std          0.477095         0.300809        0.476796        0.282425  \n",
       "min          0.000000         0.000000        0.000000        0.000000  \n",
       "25%          0.000000         0.000000        0.000000        0.000000  \n",
       "50%          0.000000         0.000000        1.000000        0.000000  \n",
       "75%          1.000000         0.000000        1.000000        0.000000  \n",
       "max          1.000000         1.000000        1.000000        1.000000  "
      ]
     },
     "execution_count": 31,
     "metadata": {},
     "output_type": "execute_result"
    }
   ],
   "source": [
    "data.describe()"
   ]
  },
  {
   "cell_type": "code",
   "execution_count": 32,
   "id": "8cd1a581",
   "metadata": {
    "execution": {
     "iopub.execute_input": "2022-06-12T10:50:06.995651Z",
     "iopub.status.busy": "2022-06-12T10:50:06.995196Z",
     "iopub.status.idle": "2022-06-12T10:50:08.429667Z",
     "shell.execute_reply": "2022-06-12T10:50:08.428677Z"
    },
    "papermill": {
     "duration": 1.442207,
     "end_time": "2022-06-12T10:50:08.431665",
     "exception": false,
     "start_time": "2022-06-12T10:50:06.989458",
     "status": "completed"
    },
    "tags": []
   },
   "outputs": [
    {
     "data": {
      "image/png": "[encoded data removed]",
      "text/plain": [
       "<Figure size 640x480 with 1 Axes>"
      ]
     },
     "metadata": {},
     "output_type": "display_data"
    },
    {
     "data": {
      "image/png": "[encoded data removed]",
      "text/plain": [
       "<Figure size 640x480 with 1 Axes>"
      ]
     },
     "metadata": {},
     "output_type": "display_data"
    },
    {
     "data": {
      "image/png": "[encoded data removed]",
      "text/plain": [
       "<Figure size 640x480 with 1 Axes>"
      ]
     },
     "metadata": {},
     "output_type": "display_data"
    },
    {
     "data": {
      "image/png": "[encoded data removed]",
      "text/plain": [
       "<Figure size 640x480 with 1 Axes>"
      ]
     },
     "metadata": {},
     "output_type": "display_data"
    }
   ],
   "source": [
    "# Data distribution\n",
    "for col in ['repeat_retailer','used_chip','used_pin_number','online_order']:\n",
    "    sns.countplot(data=data,x=col,hue='fraud')\n",
    "    plt.show()"
   ]
  },
  {
   "cell_type": "code",
   "execution_count": 33,
   "id": "080f51b4",
   "metadata": {
    "execution": {
     "iopub.execute_input": "2022-06-12T10:50:08.444514Z",
     "iopub.status.busy": "2022-06-12T10:50:08.444122Z",
     "iopub.status.idle": "2022-06-12T10:50:08.460401Z",
     "shell.execute_reply": "2022-06-12T10:50:08.459396Z"
    },
    "papermill": {
     "duration": 0.025223,
     "end_time": "2022-06-12T10:50:08.462516",
     "exception": false,
     "start_time": "2022-06-12T10:50:08.437293",
     "status": "completed"
    },
    "tags": []
   },
   "outputs": [
    {
     "name": "stdout",
     "output_type": "stream",
     "text": [
      "Percentage of fraud in whole dataset: 8.7403\n"
     ]
    }
   ],
   "source": [
    "# Unbalanced data\n",
    "print('Percentage of fraud in whole dataset:', 100*data.loc[data.fraud==1].shape[0]/n)"
   ]
  },
  {
   "cell_type": "markdown",
   "id": "e7875c8c",
   "metadata": {
    "papermill": {
     "duration": 0.005216,
     "end_time": "2022-06-12T10:50:08.473275",
     "exception": false,
     "start_time": "2022-06-12T10:50:08.468059",
     "status": "completed"
    },
    "tags": []
   },
   "source": [
    "Notes from barplots:\n",
    "* transaction happened with PIN number are not subject to fraud\n",
    "* most of the fraud have been done over online orders"
   ]
  },
  {
   "cell_type": "code",
   "execution_count": 34,
   "id": "f0ce6fd0",
   "metadata": {
    "execution": {
     "iopub.execute_input": "2022-06-12T10:50:08.487147Z",
     "iopub.status.busy": "2022-06-12T10:50:08.486260Z",
     "iopub.status.idle": "2022-06-12T10:50:08.540880Z",
     "shell.execute_reply": "2022-06-12T10:50:08.539858Z"
    },
    "papermill": {
     "duration": 0.063914,
     "end_time": "2022-06-12T10:50:08.543050",
     "exception": false,
     "start_time": "2022-06-12T10:50:08.479136",
     "status": "completed"
    },
    "tags": []
   },
   "outputs": [
    {
     "name": "stdout",
     "output_type": "stream",
     "text": [
      "Percentage of fraud not using PIN: 99.6876537418624\n",
      "Percentage of fraud in online orders: 94.63176321178906\n"
     ]
    }
   ],
   "source": [
    "print('Percentage of fraud not using PIN:',\n",
    "      100*data.loc[(data.fraud==1) & (data.used_pin_number==0)].shape[0]/data.loc[data.fraud==1].shape[0])\n",
    "print('Percentage of fraud in online orders:',\n",
    "      100*data.loc[(data.fraud==1) & (data.online_order==1)].shape[0]/data.loc[data.fraud==1].shape[0])"
   ]
  },
  {
   "cell_type": "markdown",
   "id": "0c197ada",
   "metadata": {
    "papermill": {
     "duration": 0.005365,
     "end_time": "2022-06-12T10:50:08.553861",
     "exception": false,
     "start_time": "2022-06-12T10:50:08.548496",
     "status": "completed"
    },
    "tags": []
   },
   "source": [
    "Since target data are unbalanced we will set as our baseline an unsophisticated  model that marks fraudolent every online transaction as it makes much more sense than considering wether the transaction occurred using PIN, even though it seem to have a higher impact on the target with these data."
   ]
  },
  {
   "cell_type": "code",
   "execution_count": 35,
   "id": "f24f201c",
   "metadata": {
    "execution": {
     "iopub.execute_input": "2022-06-12T10:50:08.566369Z",
     "iopub.status.busy": "2022-06-12T10:50:08.565389Z",
     "iopub.status.idle": "2022-06-12T10:50:09.109470Z",
     "shell.execute_reply": "2022-06-12T10:50:09.108497Z"
    },
    "papermill": {
     "duration": 0.552566,
     "end_time": "2022-06-12T10:50:09.111612",
     "exception": false,
     "start_time": "2022-06-12T10:50:08.559046",
     "status": "completed"
    },
    "tags": []
   },
   "outputs": [
    {
     "data": {
      "text/plain": [
       "<Axes: >"
      ]
     },
     "execution_count": 35,
     "metadata": {},
     "output_type": "execute_result"
    },
    {
     "data": {
      "image/png": "[encoded data removed]",
      "text/plain": [
       "<Figure size 640x480 with 2 Axes>"
      ]
     },
     "metadata": {},
     "output_type": "display_data"
    }
   ],
   "source": [
    "# correlation heatmap\n",
    "corr = data.corr()\n",
    "sns.heatmap(data=corr, annot=True, mask=np.triu(corr)|(np.abs(corr)<0.01))"
   ]
  },
  {
   "cell_type": "markdown",
   "id": "ac8175fd",
   "metadata": {
    "papermill": {
     "duration": 0.005596,
     "end_time": "2022-06-12T10:50:09.123213",
     "exception": false,
     "start_time": "2022-06-12T10:50:09.117617",
     "status": "completed"
    },
    "tags": []
   },
   "source": [
    "# Preprocessing and Hyperparameter Tuning"
   ]
  },
  {
   "cell_type": "code",
   "execution_count": 36,
   "id": "92f9b472",
   "metadata": {
    "_kg_hide-input": true,
    "execution": {
     "iopub.execute_input": "2022-06-12T10:50:09.137154Z",
     "iopub.status.busy": "2022-06-12T10:50:09.136151Z",
     "iopub.status.idle": "2022-06-12T10:50:09.737076Z",
     "shell.execute_reply": "2022-06-12T10:50:09.735946Z"
    },
    "papermill": {
     "duration": 0.61075,
     "end_time": "2022-06-12T10:50:09.739831",
     "exception": false,
     "start_time": "2022-06-12T10:50:09.129081",
     "status": "completed"
    },
    "tags": []
   },
   "outputs": [],
   "source": [
    "# Preprocessing and Splitting\n",
    "from sklearn.preprocessing import MinMaxScaler\n",
    "from sklearn.ensemble import RandomForestClassifier\n",
    "\n",
    "X_sc = data.copy()\n",
    "features_names = data.columns.tolist()\n",
    "features_names.remove('fraud')\n",
    "MMsc = MinMaxScaler()\n",
    "X_sc[features_names] = MMsc.fit_transform(data[features_names])\n",
    "\n",
    "scale_ = MMsc.scale_  # array of per-feature scale values\n",
    "min_ = MMsc.min_  # array of per-feature min values\n",
    "np.savetxt('scale_values.txt', scale_)\n",
    "np.savetxt('min_values.txt', min_)\n",
    "\n",
    "y_sc = X_sc.pop('fraud')\n",
    "X_train, X_test, y_train, y_test = train_test_split(X_sc,y_sc, test_size=0.2, shuffle=False) ## MM no shuffle"
   ]
  },
  {
   "cell_type": "code",
   "execution_count": 37,
   "id": "214d966d",
   "metadata": {
    "_kg_hide-input": false,
    "execution": {
     "iopub.execute_input": "2022-06-12T10:50:09.753873Z",
     "iopub.status.busy": "2022-06-12T10:50:09.752987Z",
     "iopub.status.idle": "2022-06-12T10:50:09.757264Z",
     "shell.execute_reply": "2022-06-12T10:50:09.756633Z"
    },
    "papermill": {
     "duration": 0.013371,
     "end_time": "2022-06-12T10:50:09.759201",
     "exception": false,
     "start_time": "2022-06-12T10:50:09.745830",
     "status": "completed"
    },
    "tags": []
   },
   "outputs": [],
   "source": [
    "# Random Forest Classifier Tuning (Commented to run faster)\n",
    "# from sklearn.model_selection import GridSearchCV\n",
    "# n_estimators_range = range(3,8)\n",
    "# max_depth_range = range(3,13,3)\n",
    "# param_grid ={'n_estimators': n_estimators_range, 'max_depth': max_depth_range,\n",
    "#              'random_state': [5]}\n",
    "\n",
    "# start_time = time.time()\n",
    "\n",
    "# rfc_grid = GridSearchCV(estimator=RandomForestClassifier(),\n",
    "#              param_grid=param_grid, scoring='accuracy',)\n",
    "# rfc_grid.fit(X_train,y_train)\n",
    "\n",
    "# elapsed_time = time.time()-start_time\n",
    "\n",
    "# print('RFC tuning time: ', elapsed_time)\n",
    "# print('Best score obtained with RFC: '+str(rfc_grid.best_score_))\n",
    "# print('by setting',rfc_grid.best_params_)\n",
    "\n",
    "# results = rfc_grid.cv_results_\n",
    "# fig = plt.figure()\n",
    "# ax = fig.add_subplot(projection='3d')\n",
    "\n",
    "# x = results['param_max_depth']\n",
    "# y = results['param_n_estimators']\n",
    "# z = results['mean_test_score']\n",
    "# ax.scatter(x, y, z)\n",
    "# ax.set_xlabel('max_depth')\n",
    "# ax.set_ylabel('n_estimators')\n",
    "# ax.set_zlabel('mean_test_score')"
   ]
  },
  {
   "cell_type": "markdown",
   "id": "33310d23",
   "metadata": {
    "papermill": {
     "duration": 0.005828,
     "end_time": "2022-06-12T10:50:09.771246",
     "exception": false,
     "start_time": "2022-06-12T10:50:09.765418",
     "status": "completed"
    },
    "tags": []
   },
   "source": [
    "# Model Evaluation and Features Importances"
   ]
  },
  {
   "cell_type": "code",
   "execution_count": 38,
   "id": "89f89c93",
   "metadata": {
    "execution": {
     "iopub.execute_input": "2022-06-12T10:50:09.785535Z",
     "iopub.status.busy": "2022-06-12T10:50:09.784991Z",
     "iopub.status.idle": "2022-06-12T10:50:13.984625Z",
     "shell.execute_reply": "2022-06-12T10:50:13.983668Z"
    },
    "papermill": {
     "duration": 4.209083,
     "end_time": "2022-06-12T10:50:13.986780",
     "exception": false,
     "start_time": "2022-06-12T10:50:09.777697",
     "status": "completed"
    },
    "tags": []
   },
   "outputs": [
    {
     "data": {
      "image/png": "[encoded data removed]",
      "text/plain": [
       "<Figure size 640x480 with 1 Axes>"
      ]
     },
     "metadata": {},
     "output_type": "display_data"
    },
    {
     "data": {
      "text/html": [
       "<div>\n",
       "<style scoped>\n",
       "    .dataframe tbody tr th:only-of-type {\n",
       "        vertical-align: middle;\n",
       "    }\n",
       "\n",
       "    .dataframe tbody tr th {\n",
       "        vertical-align: top;\n",
       "    }\n",
       "\n",
       "    .dataframe thead th {\n",
       "        text-align: right;\n",
       "    }\n",
       "</style>\n",
       "<table border=\"1\" class=\"dataframe\">\n",
       "  <thead>\n",
       "    <tr style=\"text-align: right;\">\n",
       "      <th></th>\n",
       "      <th>0.0</th>\n",
       "      <th>1.0</th>\n",
       "      <th>accuracy</th>\n",
       "      <th>macro avg</th>\n",
       "      <th>weighted avg</th>\n",
       "    </tr>\n",
       "  </thead>\n",
       "  <tbody>\n",
       "    <tr>\n",
       "      <th>precision</th>\n",
       "      <td>0.993549</td>\n",
       "      <td>0.999939</td>\n",
       "      <td>0.99407</td>\n",
       "      <td>0.996744</td>\n",
       "      <td>0.994108</td>\n",
       "    </tr>\n",
       "    <tr>\n",
       "      <th>recall</th>\n",
       "      <td>0.999995</td>\n",
       "      <td>0.932290</td>\n",
       "      <td>0.99407</td>\n",
       "      <td>0.966142</td>\n",
       "      <td>0.994070</td>\n",
       "    </tr>\n",
       "    <tr>\n",
       "      <th>f1-score</th>\n",
       "      <td>0.996761</td>\n",
       "      <td>0.964930</td>\n",
       "      <td>0.99407</td>\n",
       "      <td>0.980846</td>\n",
       "      <td>0.993976</td>\n",
       "    </tr>\n",
       "    <tr>\n",
       "      <th>support</th>\n",
       "      <td>182499.000000</td>\n",
       "      <td>17501.000000</td>\n",
       "      <td>0.99407</td>\n",
       "      <td>200000.000000</td>\n",
       "      <td>200000.000000</td>\n",
       "    </tr>\n",
       "  </tbody>\n",
       "</table>\n",
       "</div>"
      ],
      "text/plain": [
       "                     0.0           1.0  accuracy      macro avg   weighted avg\n",
       "precision       0.993549      0.999939   0.99407       0.996744       0.994108\n",
       "recall          0.999995      0.932290   0.99407       0.966142       0.994070\n",
       "f1-score        0.996761      0.964930   0.99407       0.980846       0.993976\n",
       "support    182499.000000  17501.000000   0.99407  200000.000000  200000.000000"
      ]
     },
     "execution_count": 38,
     "metadata": {},
     "output_type": "execute_result"
    }
   ],
   "source": [
    "#Run RFC and evaluate model on test set\n",
    "from sklearn.metrics import confusion_matrix, ConfusionMatrixDisplay, classification_report\n",
    "\n",
    "rfc = RandomForestClassifier(n_estimators=5, max_depth=12, random_state=5)\n",
    "rfc.fit(X_train,y_train)\n",
    "y_rfc = rfc.predict(X_test)\n",
    "cm = confusion_matrix(y_true=y_test, y_pred=y_rfc)\n",
    "ConfusionMatrixDisplay(cm).plot(cmap='Blues', colorbar=False)\n",
    "plt.title('RFC Confusion Matrix')\n",
    "plt.show()\n",
    "\n",
    "report = pd.DataFrame(data=classification_report(\n",
    "    y_true=y_test, y_pred=y_rfc, output_dict=True))\n",
    "report"
   ]
  },
  {
   "cell_type": "markdown",
   "id": "67164536",
   "metadata": {
    "papermill": {
     "duration": 0.006047,
     "end_time": "2022-06-12T10:50:13.999467",
     "exception": false,
     "start_time": "2022-06-12T10:50:13.993420",
     "status": "completed"
    },
    "tags": []
   },
   "source": [
    "Now that we have built our model and ensured it has an almost perfect prediction power we focus on the interpretability of our model. We will look at features importances in the RandomForestClassifier used for classification and then look at how the base estimator in the forest combined them in order to get to its results (we suggest to download the decision path to take a closer look)."
   ]
  },
  {
   "cell_type": "code",
   "execution_count": 39,
   "id": "cf028b5b",
   "metadata": {
    "execution": {
     "iopub.execute_input": "2022-06-12T10:50:14.014257Z",
     "iopub.status.busy": "2022-06-12T10:50:14.013455Z",
     "iopub.status.idle": "2022-06-12T10:50:14.187770Z",
     "shell.execute_reply": "2022-06-12T10:50:14.186634Z"
    },
    "papermill": {
     "duration": 0.184783,
     "end_time": "2022-06-12T10:50:14.190702",
     "exception": false,
     "start_time": "2022-06-12T10:50:14.005919",
     "status": "completed"
    },
    "tags": []
   },
   "outputs": [
    {
     "data": {
      "image/png": "[encoded data removed]",
      "text/plain": [
       "<Figure size 640x480 with 1 Axes>"
      ]
     },
     "metadata": {},
     "output_type": "display_data"
    },
    {
     "name": "stdout",
     "output_type": "stream",
     "text": [
      "Mean features importance\n",
      "ratio_to_median_purchase_price: 0.5289826342702987\n",
      "online_order: 0.17842647990492344\n",
      "distance_from_home: 0.17012745121696854\n",
      "used_pin_number: 0.08568642960124649\n",
      "used_chip: 0.028127759937730888\n",
      "repeat_retailer: 0.008649245068831914\n"
     ]
    }
   ],
   "source": [
    "#Feature importances\n",
    "importances = rfc.feature_importances_\n",
    "std = np.std([tree.feature_importances_ for tree in rfc.estimators_], axis=0)\n",
    "rfc_importances = pd.Series(importances, index=X_train.columns).sort_values(ascending=False)\n",
    "\n",
    "fig, ax = plt.subplots()\n",
    "rfc_importances.plot.bar(yerr=std, ax=ax)\n",
    "ax.set_title(\"Feature importances using MDI\") #Minimum decrease in impurity\n",
    "ax.set_ylabel(\"Mean decrease in impurity\")\n",
    "plt.show()\n",
    "\n",
    "print('Mean features importance')\n",
    "for feature in rfc_importances.index:\n",
    "    print(feature+': '+str(rfc_importances[feature]))"
   ]
  },
  {
   "cell_type": "code",
   "execution_count": 40,
   "id": "cc96440f",
   "metadata": {},
   "outputs": [
    {
     "data": {
      "text/html": [
       "<div>\n",
       "<style scoped>\n",
       "    .dataframe tbody tr th:only-of-type {\n",
       "        vertical-align: middle;\n",
       "    }\n",
       "\n",
       "    .dataframe tbody tr th {\n",
       "        vertical-align: top;\n",
       "    }\n",
       "\n",
       "    .dataframe thead th {\n",
       "        text-align: right;\n",
       "    }\n",
       "</style>\n",
       "<table border=\"1\" class=\"dataframe\">\n",
       "  <thead>\n",
       "    <tr style=\"text-align: right;\">\n",
       "      <th></th>\n",
       "      <th>distance_from_home</th>\n",
       "      <th>ratio_to_median_purchase_price</th>\n",
       "      <th>repeat_retailer</th>\n",
       "      <th>used_chip</th>\n",
       "      <th>used_pin_number</th>\n",
       "      <th>online_order</th>\n",
       "      <th>fraud</th>\n",
       "    </tr>\n",
       "  </thead>\n",
       "  <tbody>\n",
       "    <tr>\n",
       "      <th>13</th>\n",
       "      <td>2.131956</td>\n",
       "      <td>6.358667</td>\n",
       "      <td>1.0</td>\n",
       "      <td>0.0</td>\n",
       "      <td>0.0</td>\n",
       "      <td>1.0</td>\n",
       "      <td>1.0</td>\n",
       "    </tr>\n",
       "    <tr>\n",
       "      <th>24</th>\n",
       "      <td>3.803057</td>\n",
       "      <td>1.872950</td>\n",
       "      <td>1.0</td>\n",
       "      <td>0.0</td>\n",
       "      <td>0.0</td>\n",
       "      <td>1.0</td>\n",
       "      <td>1.0</td>\n",
       "    </tr>\n",
       "    <tr>\n",
       "      <th>29</th>\n",
       "      <td>15.694986</td>\n",
       "      <td>0.855623</td>\n",
       "      <td>1.0</td>\n",
       "      <td>0.0</td>\n",
       "      <td>0.0</td>\n",
       "      <td>1.0</td>\n",
       "      <td>1.0</td>\n",
       "    </tr>\n",
       "    <tr>\n",
       "      <th>35</th>\n",
       "      <td>26.711462</td>\n",
       "      <td>4.603601</td>\n",
       "      <td>1.0</td>\n",
       "      <td>1.0</td>\n",
       "      <td>0.0</td>\n",
       "      <td>1.0</td>\n",
       "      <td>1.0</td>\n",
       "    </tr>\n",
       "    <tr>\n",
       "      <th>36</th>\n",
       "      <td>10.664474</td>\n",
       "      <td>4.886521</td>\n",
       "      <td>1.0</td>\n",
       "      <td>0.0</td>\n",
       "      <td>0.0</td>\n",
       "      <td>1.0</td>\n",
       "      <td>1.0</td>\n",
       "    </tr>\n",
       "    <tr>\n",
       "      <th>...</th>\n",
       "      <td>...</td>\n",
       "      <td>...</td>\n",
       "      <td>...</td>\n",
       "      <td>...</td>\n",
       "      <td>...</td>\n",
       "      <td>...</td>\n",
       "      <td>...</td>\n",
       "    </tr>\n",
       "    <tr>\n",
       "      <th>999908</th>\n",
       "      <td>45.296658</td>\n",
       "      <td>8.856861</td>\n",
       "      <td>1.0</td>\n",
       "      <td>0.0</td>\n",
       "      <td>0.0</td>\n",
       "      <td>1.0</td>\n",
       "      <td>1.0</td>\n",
       "    </tr>\n",
       "    <tr>\n",
       "      <th>999916</th>\n",
       "      <td>167.139756</td>\n",
       "      <td>0.308468</td>\n",
       "      <td>1.0</td>\n",
       "      <td>0.0</td>\n",
       "      <td>0.0</td>\n",
       "      <td>1.0</td>\n",
       "      <td>1.0</td>\n",
       "    </tr>\n",
       "    <tr>\n",
       "      <th>999919</th>\n",
       "      <td>124.640118</td>\n",
       "      <td>0.434885</td>\n",
       "      <td>1.0</td>\n",
       "      <td>0.0</td>\n",
       "      <td>0.0</td>\n",
       "      <td>1.0</td>\n",
       "      <td>1.0</td>\n",
       "    </tr>\n",
       "    <tr>\n",
       "      <th>999939</th>\n",
       "      <td>51.412900</td>\n",
       "      <td>29.914254</td>\n",
       "      <td>1.0</td>\n",
       "      <td>0.0</td>\n",
       "      <td>0.0</td>\n",
       "      <td>1.0</td>\n",
       "      <td>1.0</td>\n",
       "    </tr>\n",
       "    <tr>\n",
       "      <th>999949</th>\n",
       "      <td>15.724799</td>\n",
       "      <td>11.009366</td>\n",
       "      <td>1.0</td>\n",
       "      <td>1.0</td>\n",
       "      <td>0.0</td>\n",
       "      <td>1.0</td>\n",
       "      <td>1.0</td>\n",
       "    </tr>\n",
       "  </tbody>\n",
       "</table>\n",
       "<p>87403 rows × 7 columns</p>\n",
       "</div>"
      ],
      "text/plain": [
       "        distance_from_home  ratio_to_median_purchase_price  repeat_retailer  \\\n",
       "13                2.131956                        6.358667              1.0   \n",
       "24                3.803057                        1.872950              1.0   \n",
       "29               15.694986                        0.855623              1.0   \n",
       "35               26.711462                        4.603601              1.0   \n",
       "36               10.664474                        4.886521              1.0   \n",
       "...                    ...                             ...              ...   \n",
       "999908           45.296658                        8.856861              1.0   \n",
       "999916          167.139756                        0.308468              1.0   \n",
       "999919          124.640118                        0.434885              1.0   \n",
       "999939           51.412900                       29.914254              1.0   \n",
       "999949           15.724799                       11.009366              1.0   \n",
       "\n",
       "        used_chip  used_pin_number  online_order  fraud  \n",
       "13            0.0              0.0           1.0    1.0  \n",
       "24            0.0              0.0           1.0    1.0  \n",
       "29            0.0              0.0           1.0    1.0  \n",
       "35            1.0              0.0           1.0    1.0  \n",
       "36            0.0              0.0           1.0    1.0  \n",
       "...           ...              ...           ...    ...  \n",
       "999908        0.0              0.0           1.0    1.0  \n",
       "999916        0.0              0.0           1.0    1.0  \n",
       "999919        0.0              0.0           1.0    1.0  \n",
       "999939        0.0              0.0           1.0    1.0  \n",
       "999949        1.0              0.0           1.0    1.0  \n",
       "\n",
       "[87403 rows x 7 columns]"
      ]
     },
     "execution_count": 40,
     "metadata": {},
     "output_type": "execute_result"
    }
   ],
   "source": [
    "data[data[\"fraud\"] == 1]"
   ]
  },
  {
   "cell_type": "code",
   "execution_count": 41,
   "id": "f2fe3fd9",
   "metadata": {},
   "outputs": [
    {
     "data": {
      "text/plain": [
       "['model.joblib']"
      ]
     },
     "execution_count": 41,
     "metadata": {},
     "output_type": "execute_result"
    }
   ],
   "source": [
    "from joblib import dump\n",
    "dump(rfc, 'model.joblib')"
   ]
  },
  {
   "cell_type": "code",
   "execution_count": 44,
   "id": "2c1a1c59",
   "metadata": {},
   "outputs": [
    {
     "name": "stdout",
     "output_type": "stream",
     "text": [
      "distance_from_home                2.131956\n",
      "ratio_to_median_purchase_price    6.358667\n",
      "repeat_retailer                   1.000000\n",
      "used_chip                         0.000000\n",
      "used_pin_number                   0.000000\n",
      "online_order                      1.000000\n",
      "fraud                             1.000000\n",
      "Name: 13, dtype: float64\n",
      "distance_from_home                0.000200\n",
      "ratio_to_median_purchase_price    0.023728\n",
      "repeat_retailer                   1.000000\n",
      "used_chip                         0.000000\n",
      "used_pin_number                   0.000000\n",
      "online_order                      1.000000\n",
      "Name: 13, dtype: float64\n",
      "1.0\n",
      "[[2.00050554e-04 2.37277918e-02 1.00000000e+00 0.00000000e+00\n",
      "  0.00000000e+00 1.00000000e+00]]\n",
      "[[0.00020005055351907927, 0.023727791839971268, 1.0, 0.0, 0.0, 1.0]]\n"
     ]
    },
    {
     "name": "stderr",
     "output_type": "stream",
     "text": [
      "/Users/mmortari/git/demo20240608-KFcomponents/venv/lib/python3.11/site-packages/sklearn/base.py:493: UserWarning: X does not have valid feature names, but RandomForestClassifier was fitted with feature names\n",
      "  warnings.warn(\n"
     ]
    },
    {
     "data": {
      "text/plain": [
       "array([1.])"
      ]
     },
     "execution_count": 44,
     "metadata": {},
     "output_type": "execute_result"
    }
   ],
   "source": [
    "import json\n",
    "def default(obj):\n",
    "    if type(obj).__module__ == np.__name__:\n",
    "        if isinstance(obj, np.ndarray):\n",
    "            return obj.tolist()\n",
    "        else:\n",
    "            return obj.item()\n",
    "    raise TypeError('Unknown type:', type(obj))\n",
    "\n",
    "row = 13\n",
    "print(data.iloc[row])\n",
    "print(X_train.iloc[row])\n",
    "print(y_train.iloc[row])\n",
    "x = X_train.iloc[row].values.reshape(1, -1)\n",
    "print(x)\n",
    "print(json.dumps(x, default=default))\n",
    "rfc.predict(x)"
   ]
  }
 ],
 "metadata": {
  "kernelspec": {
   "display_name": "Python 3",
   "language": "python",
   "name": "python3"
  },
  "language_info": {
   "codemirror_mode": {
    "name": "ipython",
    "version": 3
   },
   "file_extension": ".py",
   "mimetype": "text/x-python",
   "name": "python",
   "nbconvert_exporter": "python",
   "pygments_lexer": "ipython3",
   "version": "3.11.6"
  },
  "papermill": {
   "default_parameters": {},
   "duration": 23.50737,
   "end_time": "2022-06-12T10:50:18.164394",
   "environment_variables": {},
   "exception": null,
   "input_path": "__notebook__.ipynb",
   "output_path": "__notebook__.ipynb",
   "parameters": {},
   "start_time": "2022-06-12T10:49:54.657024",
   "version": "2.3.4"
  }
 },
 "nbformat": 4,
 "nbformat_minor": 5
}
